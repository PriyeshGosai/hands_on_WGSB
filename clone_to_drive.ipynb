{
  "cells": [
    {
      "cell_type": "markdown",
      "metadata": {
        "id": "OgWr9pM6alE9"
      },
      "source": [
        "### 🔧 Install Training Environment\n",
        "\n",
        "Run the following command to install the required training environment:\n"
      ]
    },
    {
      "cell_type": "code",
      "execution_count": null,
      "metadata": {
        "id": "hG0XEePyc6-I"
      },
      "outputs": [],
      "source": [
        "# 1. Clone the repo\n",
        "!git clone https://github.com/PriyeshGosai/colab_training_env.git"
      ]
    },
    {
      "cell_type": "code",
      "execution_count": null,
      "metadata": {
        "colab": {
          "base_uri": "https://localhost:8080/"
        },
        "id": "bLzOFEnwalFD",
        "outputId": "e1ab0f53-3a6b-487b-b905-f83240aacbc0"
      },
      "outputs": [],
      "source": [
        "# 2. Add the repo to the Python path\n",
        "import sys\n",
        "sys.path.append('/content/colab_training_env')\n"
      ]
    },
    {
      "cell_type": "code",
      "execution_count": null,
      "metadata": {
        "colab": {
          "base_uri": "https://localhost:8080/",
          "height": 321
        },
        "id": "1brAdaAUcWhT",
        "outputId": "72623e0b-0803-4d40-c283-f30d05ef9910"
      },
      "outputs": [],
      "source": [
        "# Setup Repository on Google Drive\n",
        "from colab_training_env import colab_notebooks\n",
        "\n",
        "# 4. Call the function (example)\n",
        "repository_url = 'https://github.com/PriyeshGosai/hands_on_WGSB'\n",
        "colab_notebooks.clone_colab_sheet(repository_url)\n"
      ]
    },
    {
      "cell_type": "markdown",
      "metadata": {
        "id": "9pNrxY3EalFF"
      },
      "source": [
        "###  🏁 Setup Complete!\n",
        "\n",
        "Your repository has been successfully cloned into Google Drive and is ready to use in this notebook environment.\n",
        "\n",
        "If you encountered any issues or need more guidance, refer to the [README](https://github.com/PriyeshGosai/colab_training_env/blob/main/README.md) for detailed instructions.\n",
        "\n",
        "Happy coding! 🚀\n"
      ]
    }
  ],
  "metadata": {
    "colab": {
      "provenance": []
    },
    "kernelspec": {
      "display_name": "pypsa_laos",
      "language": "python",
      "name": "python3"
    },
    "language_info": {
      "name": "python",
      "version": "3.12.7"
    }
  },
  "nbformat": 4,
  "nbformat_minor": 0
}
