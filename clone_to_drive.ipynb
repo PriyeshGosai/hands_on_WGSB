{
 "cells": [
  {
   "cell_type": "markdown",
   "metadata": {},
   "source": [
    "### 🔧 Install Training Environment\n",
    "\n",
    "Run the following command to install the required training environment:\n"
   ]
  },
  {
   "cell_type": "code",
   "execution_count": null,
   "metadata": {},
   "outputs": [],
   "source": [
    "!pip install git+https://github.com/PriyeshGosai/colab_training_env.git\n"
   ]
  },
  {
   "cell_type": "markdown",
   "metadata": {},
   "source": [
    "### 📝 Step 1: Enter Repository URL"
   ]
  },
  {
   "cell_type": "code",
   "execution_count": null,
   "metadata": {},
   "outputs": [],
   "source": [
    "# Replace with the GitHub repository you want to clone\n",
    "repository_url = 'https://github.com/PriyeshGosai/hands_on_WGSB'\n"
   ]
  },
  {
   "cell_type": "markdown",
   "metadata": {},
   "source": [
    "### 🚀 Step 2: Clone the Repository"
   ]
  },
  {
   "cell_type": "markdown",
   "metadata": {},
   "source": [
    "✅ Verify Installation\n",
    "After installing, run the following to check the package was installed correctly:"
   ]
  },
  {
   "cell_type": "code",
   "execution_count": null,
   "metadata": {},
   "outputs": [],
   "source": [
    "from colab_training_env import clone_colab_sheet\n",
    "\n",
    "clone_colab_sheet(repository_url)"
   ]
  },
  {
   "cell_type": "markdown",
   "metadata": {},
   "source": [
    "###  🏁 Setup Complete!\n",
    "\n",
    "Your repository has been successfully cloned into Google Drive and is ready to use in this notebook environment.\n",
    "\n",
    "If you encountered any issues or need more guidance, refer to the [README](https://github.com/PriyeshGosai/colab_training_env/blob/main/README.md) for detailed instructions.\n",
    "\n",
    "Happy coding! 🚀\n"
   ]
  }
 ],
 "metadata": {
  "kernelspec": {
   "display_name": "pypsa_laos",
   "language": "python",
   "name": "python3"
  },
  "language_info": {
   "name": "python",
   "version": "3.12.7"
  }
 },
 "nbformat": 4,
 "nbformat_minor": 2
}
