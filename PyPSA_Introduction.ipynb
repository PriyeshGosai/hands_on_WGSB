{
 "cells": [
  {
   "cell_type": "markdown",
   "metadata": {},
   "source": [
    "### 📘 Introduction to PyPSA"
   ]
  },
  {
   "cell_type": "markdown",
   "metadata": {},
   "source": [
    "<div style=\"display: flex; align-items: center; justify-content: space-between;\">\n",
    "  <div>\n",
    "    <h3>Course presenters</h3>\n",
    "    <ul>\n",
    "      <li><strong>Name Surname</strong> - Role</li>\n",
    "      <li><strong>Name Surname</strong> - Role</li>\n",
    "    </ul>\n",
    "  </div>\n",
    "  <div>\n",
    "    <a href=\"https://openenergytransition.org/index.html\">\n",
    "      <img src=\"https://openenergytransition.org/assets/img/oet-logo-red-n-subtitle.png\" height=\"60\" alt=\"OET\">\n",
    "    </a>\n",
    "  </div>\n",
    "</div>\n"
   ]
  },
  {
   "cell_type": "markdown",
   "metadata": {},
   "source": [
    "##### 🎯 Learning Objectives  \n"
   ]
  },
  {
   "cell_type": "markdown",
   "metadata": {},
   "source": [
    "\n",
    "* Introduce participants to the PyPSA toolbox. \n",
    "* Import a PyPSA network. \n",
    "* Provide details of relevant components.  \n",
    "* Solve a simple PyPSA model.  \n",
    "* Review the data structures for static and time-series data.  \n",
    "* Analyze the results.  \n",
    "---"
   ]
  },
  {
   "cell_type": "markdown",
   "metadata": {},
   "source": [
    "### 📄 **Case Study**"
   ]
  },
  {
   "cell_type": "markdown",
   "metadata": {},
   "source": [
    "_Provide the context of the scenario._\n",
    "\n",
    "In this case we have a model of eight countries in Europe for a 24 hour period. We want to observe the results of this model. \n"
   ]
  },
  {
   "cell_type": "markdown",
   "metadata": {},
   "source": [
    "### 📥 **Importing Essential Libraries**  \n"
   ]
  },
  {
   "cell_type": "code",
   "execution_count": null,
   "metadata": {},
   "outputs": [],
   "source": []
  },
  {
   "cell_type": "code",
   "execution_count": null,
   "metadata": {},
   "outputs": [],
   "source": [
    "# Google Colab users\n",
    "# Remove the comments in the rows below to set up your notebook.\n",
    "\n",
    "# !pip install pypsa\n",
    "\n",
    "# from google.colab import drive\n",
    "# import os\n",
    "\n",
    "# drive.mount('/content/drive')\n",
    "# os.chdir('/content/drive/MyDrive/psfo_2025/mec4131z/')"
   ]
  },
  {
   "cell_type": "code",
   "execution_count": null,
   "metadata": {},
   "outputs": [],
   "source": [
    "import pypsa\n",
    "import pandas as pd\n"
   ]
  },
  {
   "cell_type": "markdown",
   "metadata": {},
   "source": [
    "#### 📥 **Importing Networks in PyPSA** "
   ]
  },
  {
   "cell_type": "markdown",
   "metadata": {},
   "source": [
    "## 📅 Importing Networks in PyPSA\n",
    "\n",
    "PyPSA supports importing networks in **CSV**, **XLSX**, **HDF5**, and **NetCDF** formats. The table below summarizes the common formats and how to import them:\n",
    "\n",
    "| Format       | Icon | Description                                          | Import Example                                                   |\n",
    "|--------------|------|------------------------------------------------------|------------------------------------------------------------------|\n",
    "| `CSV` Folder   | 📂   | Readable, editable input data                        | `network.import_from_csv_folder(\"path_to_csv_directory\")`       |\n",
    "| `XLSX` | 📄   | Small networks and spreadsheet editing | `network.import_from_excel(\"path_to_file.xlsx\")`                |\n",
    "| `HDF5`         | 💾   | Fast and efficient binary format                      | `network = pypsa.Network(\"path_to_file.h5\")`                    |\n",
    "| `NetCDF`       | 📆   | Common for scientific computing                       | `network = pypsa.Network(\"path_to_file.nc\")`                    |\n"
   ]
  },
  {
   "cell_type": "markdown",
   "metadata": {},
   "source": [
    "⤴️ **Shortcut**\n",
    "\n",
    "Instead of using the `network.import_from_...(\"file_path/file_name.xxx\")` function to import a network, you can simply add the path and file location in the Network function and PyPSA will select the appropriate method.\n",
    "\n",
    "\n",
    "`network = pypsa.Network(\"file_path/file_name.xxx\")`"
   ]
  },
  {
   "cell_type": "markdown",
   "metadata": {},
   "source": [
    "### **🔧⚡ Create a PyPSA Network Object**"
   ]
  },
  {
   "cell_type": "code",
   "execution_count": null,
   "metadata": {},
   "outputs": [],
   "source": [
    "network = pypsa.Network('EU_Test.nc')"
   ]
  },
  {
   "cell_type": "markdown",
   "metadata": {},
   "source": [
    "Look at what is in the network."
   ]
  },
  {
   "cell_type": "code",
   "execution_count": null,
   "metadata": {},
   "outputs": [],
   "source": [
    "network.all_components"
   ]
  },
  {
   "cell_type": "markdown",
   "metadata": {},
   "source": [
    "Look at the component attributes."
   ]
  },
  {
   "cell_type": "code",
   "execution_count": null,
   "metadata": {},
   "outputs": [],
   "source": [
    "network.component_attrs['Generator']"
   ]
  },
  {
   "cell_type": "code",
   "execution_count": null,
   "metadata": {},
   "outputs": [],
   "source": [
    "network.component_attrs['Generator'].head()"
   ]
  },
  {
   "cell_type": "markdown",
   "metadata": {},
   "source": [
    "Each component is also given a label `list_name` which is the label used to access the dataset. "
   ]
  },
  {
   "cell_type": "code",
   "execution_count": null,
   "metadata": {},
   "outputs": [],
   "source": [
    "network.components"
   ]
  },
  {
   "cell_type": "code",
   "execution_count": null,
   "metadata": {},
   "outputs": [],
   "source": [
    "for key in network.component_attrs:\n",
    "    print(f'{key.ljust(20)} {network.components[key][\"list_name\"]}')\n"
   ]
  },
  {
   "cell_type": "markdown",
   "metadata": {},
   "source": [
    "#### 📂 Data Structure Guidelines  "
   ]
  },
  {
   "cell_type": "markdown",
   "metadata": {},
   "source": [
    "\n",
    "\n",
    "✅ **Static Data:**  \n",
    "- The Excel file should be configured using the `list_name` as the `sheet name`.  \n",
    "- Use ``variables`` in the header.  \n",
    "\n",
    "✅ **Time-Series Data:**  \n",
    "- Follow the naming convention:  `[list]-[variable name]`\n",
    "- Example: `loads-p_set` for the set loads.\n",
    "\n",
    "---\n"
   ]
  },
  {
   "cell_type": "markdown",
   "metadata": {},
   "source": [
    "#### ⏳ Snapshots\n"
   ]
  },
  {
   "cell_type": "markdown",
   "metadata": {},
   "source": [
    "A `snapshot` represents a specific point in time for which the network is simulated.  \n",
    "- Snapshots can be single timestamps (e.g., `2025-01-01 00:00`) or time series covering hours, days, weeks, or years.  \n",
    "- They allow modeling of dynamic power system behavior over different time periods.  "
   ]
  },
  {
   "cell_type": "code",
   "execution_count": null,
   "metadata": {},
   "outputs": [],
   "source": [
    "network.snapshots"
   ]
  },
  {
   "cell_type": "markdown",
   "metadata": {},
   "source": [
    "#### 🔌 Carrier\n",
    "\n",
    "A carrier defines the type of energy being transported or converted in the network. By default, it is set to \"AC\" for alternating current electricity networks, but it can be set to \"DC\" or any custom value such as \"wind\", \"heat\", \"hydrogen\", or \"gas\".\n",
    "\n",
    "Carriers can also store attributes relevant to global constraints—e.g., CO₂ emissions per carrier—for use in system-wide emissions limits or cost calculations.\n",
    "\n"
   ]
  },
  {
   "cell_type": "code",
   "execution_count": null,
   "metadata": {},
   "outputs": [],
   "source": [
    "network.carriers"
   ]
  },
  {
   "cell_type": "markdown",
   "metadata": {},
   "source": [
    "#### 🔹 Bus\n",
    "\n",
    "The **bus** is the fundamental node of the network. Components like generators, loads, and transmission lines connect to it. It ensures energy conservation by enforcing that all inflows and outflows at the bus are balanced—analogous to **Kirchhoff’s Current Law (KCL)**."
   ]
  },
  {
   "cell_type": "code",
   "execution_count": null,
   "metadata": {},
   "outputs": [],
   "source": [
    "network.buses"
   ]
  },
  {
   "cell_type": "markdown",
   "metadata": {},
   "source": [
    "#### ⚡ Generators\n",
    "\n",
    "Generators attach to a single bus, converting energy from their `carrier` to the bus `carrier`.\n",
    "\n",
    "- Their power output is constrained by `p_nom * p_max_pu` and `p_nom * p_min_pu`.\n",
    "- Static limits define dispatchable generators, while time-varying limits model renewables.\n",
    "- Time series `p_max_pu` and `p_min_pu` determine availability per snapshot.\n",
    "- For unit commitment constraints, refer to the PyPSA documentation."
   ]
  },
  {
   "cell_type": "code",
   "execution_count": null,
   "metadata": {},
   "outputs": [],
   "source": [
    "network.generators"
   ]
  },
  {
   "cell_type": "markdown",
   "metadata": {},
   "source": [
    "🌞 **Applying `p_max_pu` Constraint on VRE Generators**  \n",
    "\n",
    "* Variable Renewable Energy (VRE) generators, such as solar and wind, have time-dependent availability limits.  \n",
    "* The `p_max_pu` constraint, imported as a time-series dataset, determines the maximum power output at each snapshot on a per unit basis.  \n"
   ]
  },
  {
   "cell_type": "code",
   "execution_count": null,
   "metadata": {},
   "outputs": [],
   "source": [
    "network.generators_t.p_max_pu.plot()"
   ]
  },
  {
   "cell_type": "markdown",
   "metadata": {},
   "source": [
    "#### 🔌 Loads\n",
    "\n",
    "A **load** connects to a single bus and represents energy consumption, such as electricity demand, hydrogen, or heat. It draws active power from the bus and, if reactive power is involved, behaves like an inductor. Loads are essential for modeling demand in power system simulations. ⚡🏠\n"
   ]
  },
  {
   "cell_type": "code",
   "execution_count": null,
   "metadata": {},
   "outputs": [],
   "source": [
    "network.loads"
   ]
  },
  {
   "cell_type": "code",
   "execution_count": null,
   "metadata": {},
   "outputs": [],
   "source": [
    "network.loads_t.p_set"
   ]
  },
  {
   "cell_type": "markdown",
   "metadata": {},
   "source": [
    "#### 🔋 Storage options\n",
    "\n",
    "PyPSA models energy storage using two components: **Storage Units** and **Stores**. A Storage Unit connects to a single bus and shifts power across time using a time-varying state of charge, accounting for charging and discharging efficiencies. Its energy capacity is defined by multiplying `max_hours` with its nominal power.\n",
    "\n",
    "Stores also connect to a bus but model only the energy balance, not the power flow. They are more flexible for capacity sizing but require additional components like Links to control power in and out. Storage Units offer a more direct and self-contained approach to model battery-like behavior, while Stores are more versatile for complex energy storage systems."
   ]
  },
  {
   "cell_type": "code",
   "execution_count": null,
   "metadata": {},
   "outputs": [],
   "source": [
    "network.stores"
   ]
  },
  {
   "cell_type": "code",
   "execution_count": null,
   "metadata": {},
   "outputs": [],
   "source": [
    "network.storage_units"
   ]
  },
  {
   "cell_type": "markdown",
   "metadata": {},
   "source": [
    "🔗 **Links**\n",
    "\n",
    "* Links enable controllable, directed power flow between two buses (`bus0 → bus1`).  \n",
    "* They can have efficiency losses and marginal costs, restricting default flow to one direction.  \n",
    "* For bidirectional, lossless operation, set `efficiency = 1`, `marginal_cost = 0`, and `p_min_pu = -1`.  \n",
    "* Links model HVDC interconnections, converters, heat pumps, electrolysers, and other controllable power flows.  \n",
    "* ⚠️ In the actual model, lines will be used instead of links for passive AC/DC transmission.  \n",
    "\n"
   ]
  },
  {
   "cell_type": "code",
   "execution_count": null,
   "metadata": {},
   "outputs": [],
   "source": [
    "network.links"
   ]
  },
  {
   "cell_type": "markdown",
   "metadata": {},
   "source": [
    "#### 🌐 Working with the `network` object"
   ]
  },
  {
   "cell_type": "markdown",
   "metadata": {},
   "source": [
    "The network contains functions, such as: \n",
    "\n",
    "- 📥 Adding data: `network.add()` or `network.import_from_csv()` - As described before.\n",
    "- ✅ `network.consistency_check()` to check network consistency\n",
    "- 🔍 Optimization: `network.optimize()` – Runs the optimization process.  \n",
    "   * Supports multiple solvers including GLPK, Gurobi, CPLEX, and HiGHS. \n",
    "- 📊 Statistics: `network.statistics()` – Generates system-wide statistics.  \n",
    "- 🗺️ Visualization: `network.plot()` – Plots the network layout.  \n"
   ]
  },
  {
   "cell_type": "code",
   "execution_count": null,
   "metadata": {},
   "outputs": [],
   "source": [
    "network.consistency_check()"
   ]
  },
  {
   "cell_type": "markdown",
   "metadata": {},
   "source": [
    "**Solve Model**"
   ]
  },
  {
   "cell_type": "code",
   "execution_count": null,
   "metadata": {},
   "outputs": [],
   "source": [
    "network.optimize(solver_name='highs')"
   ]
  },
  {
   "cell_type": "markdown",
   "metadata": {},
   "source": [
    "**Results**"
   ]
  },
  {
   "cell_type": "code",
   "execution_count": null,
   "metadata": {},
   "outputs": [],
   "source": [
    "network.generators_t.p.head() # or .plot()"
   ]
  },
  {
   "cell_type": "code",
   "execution_count": null,
   "metadata": {},
   "outputs": [],
   "source": [
    "network.storage_units_t.p.head() # or .plot()"
   ]
  },
  {
   "cell_type": "code",
   "execution_count": null,
   "metadata": {},
   "outputs": [],
   "source": []
  },
  {
   "cell_type": "markdown",
   "metadata": {},
   "source": [
    "### \n",
    "---"
   ]
  }
 ],
 "metadata": {
  "kernelspec": {
   "display_name": "pypsa_laos",
   "language": "python",
   "name": "python3"
  },
  "language_info": {
   "codemirror_mode": {
    "name": "ipython",
    "version": 3
   },
   "file_extension": ".py",
   "mimetype": "text/x-python",
   "name": "python",
   "nbconvert_exporter": "python",
   "pygments_lexer": "ipython3",
   "version": "3.12.7"
  }
 },
 "nbformat": 4,
 "nbformat_minor": 2
}
